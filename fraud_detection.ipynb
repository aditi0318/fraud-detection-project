{
 "cells": [
  {
   "cell_type": "markdown",
   "id": "beaa2c29-7b32-4e15-b61b-3e9ecc0d1e6b",
   "metadata": {},
   "source": [
    "## Step 1: Load Data  \n",
    "Load the dataset `Fraud.csv`, check its size and fraud counts.  \n"
   ]
  },
  {
   "cell_type": "code",
   "execution_count": 1,
   "id": "9b32d646-04af-42ea-bfb6-ddc2dcf590b4",
   "metadata": {},
   "outputs": [
    {
     "name": "stdout",
     "output_type": "stream",
     "text": [
      "Shape: (6362620, 11)\n",
      "\n",
      "Fraud counts (isFraud = 0 → Non-Fraud, 1 → Fraud):\n",
      "isFraud\n",
      "0    6354407\n",
      "1       8213\n",
      "Name: count, dtype: int64\n"
     ]
    },
    {
     "data": {
      "text/html": [
       "<div>\n",
       "<style scoped>\n",
       "    .dataframe tbody tr th:only-of-type {\n",
       "        vertical-align: middle;\n",
       "    }\n",
       "\n",
       "    .dataframe tbody tr th {\n",
       "        vertical-align: top;\n",
       "    }\n",
       "\n",
       "    .dataframe thead th {\n",
       "        text-align: right;\n",
       "    }\n",
       "</style>\n",
       "<table border=\"1\" class=\"dataframe\">\n",
       "  <thead>\n",
       "    <tr style=\"text-align: right;\">\n",
       "      <th></th>\n",
       "      <th>step</th>\n",
       "      <th>type</th>\n",
       "      <th>amount</th>\n",
       "      <th>nameOrig</th>\n",
       "      <th>oldbalanceOrg</th>\n",
       "      <th>newbalanceOrig</th>\n",
       "      <th>nameDest</th>\n",
       "      <th>oldbalanceDest</th>\n",
       "      <th>newbalanceDest</th>\n",
       "      <th>isFraud</th>\n",
       "      <th>isFlaggedFraud</th>\n",
       "    </tr>\n",
       "  </thead>\n",
       "  <tbody>\n",
       "    <tr>\n",
       "      <th>0</th>\n",
       "      <td>1</td>\n",
       "      <td>PAYMENT</td>\n",
       "      <td>9839.64</td>\n",
       "      <td>C1231006815</td>\n",
       "      <td>170136.0</td>\n",
       "      <td>160296.36</td>\n",
       "      <td>M1979787155</td>\n",
       "      <td>0.0</td>\n",
       "      <td>0.0</td>\n",
       "      <td>0</td>\n",
       "      <td>0</td>\n",
       "    </tr>\n",
       "    <tr>\n",
       "      <th>1</th>\n",
       "      <td>1</td>\n",
       "      <td>PAYMENT</td>\n",
       "      <td>1864.28</td>\n",
       "      <td>C1666544295</td>\n",
       "      <td>21249.0</td>\n",
       "      <td>19384.72</td>\n",
       "      <td>M2044282225</td>\n",
       "      <td>0.0</td>\n",
       "      <td>0.0</td>\n",
       "      <td>0</td>\n",
       "      <td>0</td>\n",
       "    </tr>\n",
       "    <tr>\n",
       "      <th>2</th>\n",
       "      <td>1</td>\n",
       "      <td>TRANSFER</td>\n",
       "      <td>181.00</td>\n",
       "      <td>C1305486145</td>\n",
       "      <td>181.0</td>\n",
       "      <td>0.00</td>\n",
       "      <td>C553264065</td>\n",
       "      <td>0.0</td>\n",
       "      <td>0.0</td>\n",
       "      <td>1</td>\n",
       "      <td>0</td>\n",
       "    </tr>\n",
       "    <tr>\n",
       "      <th>3</th>\n",
       "      <td>1</td>\n",
       "      <td>CASH_OUT</td>\n",
       "      <td>181.00</td>\n",
       "      <td>C840083671</td>\n",
       "      <td>181.0</td>\n",
       "      <td>0.00</td>\n",
       "      <td>C38997010</td>\n",
       "      <td>21182.0</td>\n",
       "      <td>0.0</td>\n",
       "      <td>1</td>\n",
       "      <td>0</td>\n",
       "    </tr>\n",
       "    <tr>\n",
       "      <th>4</th>\n",
       "      <td>1</td>\n",
       "      <td>PAYMENT</td>\n",
       "      <td>11668.14</td>\n",
       "      <td>C2048537720</td>\n",
       "      <td>41554.0</td>\n",
       "      <td>29885.86</td>\n",
       "      <td>M1230701703</td>\n",
       "      <td>0.0</td>\n",
       "      <td>0.0</td>\n",
       "      <td>0</td>\n",
       "      <td>0</td>\n",
       "    </tr>\n",
       "  </tbody>\n",
       "</table>\n",
       "</div>"
      ],
      "text/plain": [
       "   step      type    amount     nameOrig  oldbalanceOrg  newbalanceOrig  \\\n",
       "0     1   PAYMENT   9839.64  C1231006815       170136.0       160296.36   \n",
       "1     1   PAYMENT   1864.28  C1666544295        21249.0        19384.72   \n",
       "2     1  TRANSFER    181.00  C1305486145          181.0            0.00   \n",
       "3     1  CASH_OUT    181.00   C840083671          181.0            0.00   \n",
       "4     1   PAYMENT  11668.14  C2048537720        41554.0        29885.86   \n",
       "\n",
       "      nameDest  oldbalanceDest  newbalanceDest  isFraud  isFlaggedFraud  \n",
       "0  M1979787155             0.0             0.0        0               0  \n",
       "1  M2044282225             0.0             0.0        0               0  \n",
       "2   C553264065             0.0             0.0        1               0  \n",
       "3    C38997010         21182.0             0.0        1               0  \n",
       "4  M1230701703             0.0             0.0        0               0  "
      ]
     },
     "execution_count": 1,
     "metadata": {},
     "output_type": "execute_result"
    }
   ],
   "source": [
    "import pandas as pd\n",
    "\n",
    "# Load dataset\n",
    "df = pd.read_csv(\"Fraud.csv\")\n",
    "\n",
    "# Shape of dataset\n",
    "print(\"Shape:\", df.shape)\n",
    "\n",
    "# Fraud vs Non-Fraud counts\n",
    "print(\"\\nFraud counts (isFraud = 0 → Non-Fraud, 1 → Fraud):\")\n",
    "print(df[\"isFraud\"].value_counts())\n",
    "\n",
    "# Preview first few rows\n",
    "df.head()\n"
   ]
  },
  {
   "cell_type": "markdown",
   "id": "b256055e-aefc-415d-ba09-963e46dabf7c",
   "metadata": {},
   "source": [
    "## Step 2: EDA  \n",
    "Check fraud ratio, missing values, summary stats, and amount distributions.  \n"
   ]
  },
  {
   "cell_type": "code",
   "execution_count": 2,
   "id": "2a79a24e-ca08-4e93-a7f4-301bb0175405",
   "metadata": {},
   "outputs": [
    {
     "name": "stdout",
     "output_type": "stream",
     "text": [
      "Fraud rate: 0.1291%\n",
      "\n",
      "Missing values per column:\n",
      "step              0\n",
      "type              0\n",
      "amount            0\n",
      "nameOrig          0\n",
      "oldbalanceOrg     0\n",
      "newbalanceOrig    0\n",
      "nameDest          0\n",
      "oldbalanceDest    0\n",
      "newbalanceDest    0\n",
      "isFraud           0\n",
      "isFlaggedFraud    0\n",
      "dtype: int64\n"
     ]
    },
    {
     "data": {
      "text/html": [
       "<div>\n",
       "<style scoped>\n",
       "    .dataframe tbody tr th:only-of-type {\n",
       "        vertical-align: middle;\n",
       "    }\n",
       "\n",
       "    .dataframe tbody tr th {\n",
       "        vertical-align: top;\n",
       "    }\n",
       "\n",
       "    .dataframe thead th {\n",
       "        text-align: right;\n",
       "    }\n",
       "</style>\n",
       "<table border=\"1\" class=\"dataframe\">\n",
       "  <thead>\n",
       "    <tr style=\"text-align: right;\">\n",
       "      <th></th>\n",
       "      <th>step</th>\n",
       "      <th>amount</th>\n",
       "      <th>oldbalanceOrg</th>\n",
       "      <th>newbalanceOrig</th>\n",
       "      <th>oldbalanceDest</th>\n",
       "      <th>newbalanceDest</th>\n",
       "      <th>isFraud</th>\n",
       "      <th>isFlaggedFraud</th>\n",
       "    </tr>\n",
       "  </thead>\n",
       "  <tbody>\n",
       "    <tr>\n",
       "      <th>count</th>\n",
       "      <td>6.362620e+06</td>\n",
       "      <td>6.362620e+06</td>\n",
       "      <td>6.362620e+06</td>\n",
       "      <td>6.362620e+06</td>\n",
       "      <td>6.362620e+06</td>\n",
       "      <td>6.362620e+06</td>\n",
       "      <td>6.362620e+06</td>\n",
       "      <td>6.362620e+06</td>\n",
       "    </tr>\n",
       "    <tr>\n",
       "      <th>mean</th>\n",
       "      <td>2.433972e+02</td>\n",
       "      <td>1.798619e+05</td>\n",
       "      <td>8.338831e+05</td>\n",
       "      <td>8.551137e+05</td>\n",
       "      <td>1.100702e+06</td>\n",
       "      <td>1.224996e+06</td>\n",
       "      <td>1.290820e-03</td>\n",
       "      <td>2.514687e-06</td>\n",
       "    </tr>\n",
       "    <tr>\n",
       "      <th>std</th>\n",
       "      <td>1.423320e+02</td>\n",
       "      <td>6.038582e+05</td>\n",
       "      <td>2.888243e+06</td>\n",
       "      <td>2.924049e+06</td>\n",
       "      <td>3.399180e+06</td>\n",
       "      <td>3.674129e+06</td>\n",
       "      <td>3.590480e-02</td>\n",
       "      <td>1.585775e-03</td>\n",
       "    </tr>\n",
       "    <tr>\n",
       "      <th>min</th>\n",
       "      <td>1.000000e+00</td>\n",
       "      <td>0.000000e+00</td>\n",
       "      <td>0.000000e+00</td>\n",
       "      <td>0.000000e+00</td>\n",
       "      <td>0.000000e+00</td>\n",
       "      <td>0.000000e+00</td>\n",
       "      <td>0.000000e+00</td>\n",
       "      <td>0.000000e+00</td>\n",
       "    </tr>\n",
       "    <tr>\n",
       "      <th>25%</th>\n",
       "      <td>1.560000e+02</td>\n",
       "      <td>1.338957e+04</td>\n",
       "      <td>0.000000e+00</td>\n",
       "      <td>0.000000e+00</td>\n",
       "      <td>0.000000e+00</td>\n",
       "      <td>0.000000e+00</td>\n",
       "      <td>0.000000e+00</td>\n",
       "      <td>0.000000e+00</td>\n",
       "    </tr>\n",
       "    <tr>\n",
       "      <th>50%</th>\n",
       "      <td>2.390000e+02</td>\n",
       "      <td>7.487194e+04</td>\n",
       "      <td>1.420800e+04</td>\n",
       "      <td>0.000000e+00</td>\n",
       "      <td>1.327057e+05</td>\n",
       "      <td>2.146614e+05</td>\n",
       "      <td>0.000000e+00</td>\n",
       "      <td>0.000000e+00</td>\n",
       "    </tr>\n",
       "    <tr>\n",
       "      <th>75%</th>\n",
       "      <td>3.350000e+02</td>\n",
       "      <td>2.087215e+05</td>\n",
       "      <td>1.073152e+05</td>\n",
       "      <td>1.442584e+05</td>\n",
       "      <td>9.430367e+05</td>\n",
       "      <td>1.111909e+06</td>\n",
       "      <td>0.000000e+00</td>\n",
       "      <td>0.000000e+00</td>\n",
       "    </tr>\n",
       "    <tr>\n",
       "      <th>max</th>\n",
       "      <td>7.430000e+02</td>\n",
       "      <td>9.244552e+07</td>\n",
       "      <td>5.958504e+07</td>\n",
       "      <td>4.958504e+07</td>\n",
       "      <td>3.560159e+08</td>\n",
       "      <td>3.561793e+08</td>\n",
       "      <td>1.000000e+00</td>\n",
       "      <td>1.000000e+00</td>\n",
       "    </tr>\n",
       "  </tbody>\n",
       "</table>\n",
       "</div>"
      ],
      "text/plain": [
       "               step        amount  oldbalanceOrg  newbalanceOrig  \\\n",
       "count  6.362620e+06  6.362620e+06   6.362620e+06    6.362620e+06   \n",
       "mean   2.433972e+02  1.798619e+05   8.338831e+05    8.551137e+05   \n",
       "std    1.423320e+02  6.038582e+05   2.888243e+06    2.924049e+06   \n",
       "min    1.000000e+00  0.000000e+00   0.000000e+00    0.000000e+00   \n",
       "25%    1.560000e+02  1.338957e+04   0.000000e+00    0.000000e+00   \n",
       "50%    2.390000e+02  7.487194e+04   1.420800e+04    0.000000e+00   \n",
       "75%    3.350000e+02  2.087215e+05   1.073152e+05    1.442584e+05   \n",
       "max    7.430000e+02  9.244552e+07   5.958504e+07    4.958504e+07   \n",
       "\n",
       "       oldbalanceDest  newbalanceDest       isFraud  isFlaggedFraud  \n",
       "count    6.362620e+06    6.362620e+06  6.362620e+06    6.362620e+06  \n",
       "mean     1.100702e+06    1.224996e+06  1.290820e-03    2.514687e-06  \n",
       "std      3.399180e+06    3.674129e+06  3.590480e-02    1.585775e-03  \n",
       "min      0.000000e+00    0.000000e+00  0.000000e+00    0.000000e+00  \n",
       "25%      0.000000e+00    0.000000e+00  0.000000e+00    0.000000e+00  \n",
       "50%      1.327057e+05    2.146614e+05  0.000000e+00    0.000000e+00  \n",
       "75%      9.430367e+05    1.111909e+06  0.000000e+00    0.000000e+00  \n",
       "max      3.560159e+08    3.561793e+08  1.000000e+00    1.000000e+00  "
      ]
     },
     "metadata": {},
     "output_type": "display_data"
    },
    {
     "data": {
      "image/png": "[encoded data removed]",
      "text/plain": [
       "<Figure size 600x300 with 1 Axes>"
      ]
     },
     "metadata": {},
     "output_type": "display_data"
    },
    {
     "data": {
      "image/png": "[encoded data removed]",
      "text/plain": [
       "<Figure size 600x300 with 1 Axes>"
      ]
     },
     "metadata": {},
     "output_type": "display_data"
    }
   ],
   "source": [
    "import matplotlib.pyplot as plt\n",
    "import seaborn as sns\n",
    "\n",
    "# Fraud percentage\n",
    "fraud_pct = df[\"isFraud\"].mean() * 100\n",
    "print(f\"Fraud rate: {fraud_pct:.4f}%\")\n",
    "\n",
    "# Missing values\n",
    "print(\"\\nMissing values per column:\")\n",
    "print(df.isna().sum())\n",
    "\n",
    "# Summary statistics\n",
    "display(df.describe())\n",
    "\n",
    "# Transaction amount distribution\n",
    "plt.figure(figsize=(6,3))\n",
    "sns.histplot(df['amount'], bins=50)\n",
    "plt.title(\"Transaction Amounts\")\n",
    "plt.show()\n",
    "\n",
    "# Fraud vs Non-Fraud by amount\n",
    "plt.figure(figsize=(6,3))\n",
    "sns.boxplot(x=\"isFraud\", y=\"amount\", data=df)\n",
    "plt.title(\"Amount by Fraud vs Non-Fraud\")\n",
    "plt.show()\n"
   ]
  },
  {
   "cell_type": "markdown",
   "id": "611057db-c2c6-42e5-a03a-f379ce247c0b",
   "metadata": {},
   "source": [
    "## Step 3: Cleaning  \n",
    "- Drop duplicates  \n",
    "- Confirm missing values (none here)  \n",
    "- Identify numeric vs categorical columns  \n"
   ]
  },
  {
   "cell_type": "code",
   "execution_count": 3,
   "id": "7b4f995a-a1a4-40df-bb34-2d5017648c09",
   "metadata": {},
   "outputs": [
    {
     "name": "stdout",
     "output_type": "stream",
     "text": [
      "Missing values after cleaning:\n",
      " 0\n",
      "Numeric columns: ['step', 'amount', 'oldbalanceOrg', 'newbalanceOrig', 'oldbalanceDest', 'newbalanceDest', 'isFraud', 'isFlaggedFraud']\n",
      "Categorical columns: ['type', 'nameOrig', 'nameDest']\n"
     ]
    }
   ],
   "source": [
    "# Drop duplicates if any\n",
    "df = df.drop_duplicates()\n",
    "\n",
    "# Check missing values again\n",
    "print(\"Missing values after cleaning:\\n\", df.isna().sum().sum())\n",
    "\n",
    "# Separate numeric & categorical columns\n",
    "num_cols = df.select_dtypes(include=[\"int64\",\"float64\"]).columns.tolist()\n",
    "cat_cols = df.select_dtypes(include=[\"object\"]).columns.tolist()\n",
    "\n",
    "print(\"Numeric columns:\", num_cols)\n",
    "print(\"Categorical columns:\", cat_cols)\n"
   ]
  },
  {
   "cell_type": "markdown",
   "id": "6bf5812d-d9c0-4cd3-aaa7-876fb929feea",
   "metadata": {},
   "source": [
    "## Step 4: Features  \n",
    "- Target (y): `isFraud`  \n",
    "- Features (X): all other columns  \n"
   ]
  },
  {
   "cell_type": "code",
   "execution_count": 4,
   "id": "7699eee6-2f23-4e8e-99d3-0ff3eb219568",
   "metadata": {},
   "outputs": [
    {
     "name": "stdout",
     "output_type": "stream",
     "text": [
      "X shape: (6362620, 10)\n",
      "y shape: (6362620,)\n",
      "\n",
      "Target distribution:\n",
      " isFraud\n",
      "0    6354407\n",
      "1       8213\n",
      "Name: count, dtype: int64\n"
     ]
    }
   ],
   "source": [
    "# Separate Features and Target\n",
    "X = df.drop(columns=[\"isFraud\"])\n",
    "y = df[\"isFraud\"]\n",
    "\n",
    "print(\"X shape:\", X.shape)\n",
    "print(\"y shape:\", y.shape)\n",
    "print(\"\\nTarget distribution:\\n\", y.value_counts())\n"
   ]
  },
  {
   "cell_type": "markdown",
   "id": "d93f30f4-bb33-4d48-a36b-fb1827a4dd91",
   "metadata": {},
   "source": [
    "## Step 5: Balance Data  \n",
    "In the full dataset, fraud cases are very rare (~0.1%).  \n",
    "If we train directly, the model will always say \"Not Fraud\".  \n",
    "\n",
    "So here:  \n",
    "- We keep **all fraud cases** (8213).  \n",
    "- We take a **sample of non-fraud cases** (about 3× fraud).  \n",
    "- This makes a smaller dataset where frauds are not lost.  \n"
   ]
  },
  {
   "cell_type": "code",
   "execution_count": 5,
   "id": "67242889-748d-4df4-ac28-d97eb01498f1",
   "metadata": {},
   "outputs": [
    {
     "name": "stdout",
     "output_type": "stream",
     "text": [
      "Balanced dataset shape: (32852, 11)\n",
      "\n",
      "Balanced target distribution:\n",
      " isFraud\n",
      "0    24639\n",
      "1     8213\n",
      "Name: count, dtype: int64\n"
     ]
    }
   ],
   "source": [
    "# Separate fraud and non-fraud\n",
    "frauds = df[df[\"isFraud\"] == 1]\n",
    "non_frauds = df[df[\"isFraud\"] == 0].sample(len(frauds)*3, random_state=42)\n",
    "\n",
    "# Combine\n",
    "df_balanced = pd.concat([frauds, non_frauds])\n",
    "\n",
    "print(\"Balanced dataset shape:\", df_balanced.shape)\n",
    "print(\"\\nBalanced target distribution:\\n\", df_balanced[\"isFraud\"].value_counts())\n"
   ]
  },
  {
   "cell_type": "markdown",
   "id": "f0d6620b-2c40-434d-bf36-c9bd5e7f6f67",
   "metadata": {},
   "source": [
    "## Step 6: Model Training 🤖  \n",
    "- Split data into Train (75%) and Test (25%).  \n",
    "- Train Logistic Regression (simple baseline).  \n",
    "- Train Random Forest (stronger model).  \n",
    "- Compare results with Precision, Recall, F1, ROC-AUC.\n",
    "\n",
    "- Precision → Of the ones the model said “fraud”, how many were really fraud?\n",
    "- Recall → Of the actual frauds, how many did the model catch?\n",
    "- F1-score → A balance between precision and recall.\n",
    "- ROC-AUC → Overall score for how well the model separates fraud vs non-fraud.\n"
   ]
  },
  {
   "cell_type": "code",
   "execution_count": 6,
   "id": "e6baa34c-03b5-41d8-8e6b-577d4d852f45",
   "metadata": {},
   "outputs": [
    {
     "name": "stdout",
     "output_type": "stream",
     "text": [
      "=== Logistic Regression ===\n",
      "ROC-AUC: 0.9593796060247596\n",
      "              precision    recall  f1-score   support\n",
      "\n",
      "           0       0.96      0.90      0.93      6160\n",
      "           1       0.75      0.90      0.82      2053\n",
      "\n",
      "    accuracy                           0.90      8213\n",
      "   macro avg       0.86      0.90      0.87      8213\n",
      "weighted avg       0.91      0.90      0.90      8213\n",
      "\n",
      "\n",
      "=== Random Forest ===\n",
      "ROC-AUC: 0.9976607324725932\n",
      "              precision    recall  f1-score   support\n",
      "\n",
      "           0       0.98      0.99      0.99      6160\n",
      "           1       0.97      0.95      0.96      2053\n",
      "\n",
      "    accuracy                           0.98      8213\n",
      "   macro avg       0.98      0.97      0.97      8213\n",
      "weighted avg       0.98      0.98      0.98      8213\n",
      "\n"
     ]
    }
   ],
   "source": [
    "from sklearn.model_selection import train_test_split\n",
    "from sklearn.preprocessing import OneHotEncoder\n",
    "from sklearn.compose import ColumnTransformer\n",
    "from sklearn.pipeline import Pipeline\n",
    "from sklearn.linear_model import LogisticRegression\n",
    "from sklearn.ensemble import RandomForestClassifier\n",
    "from sklearn.metrics import classification_report, roc_auc_score\n",
    "\n",
    "# --- Split data ---\n",
    "X = df_balanced.drop(columns=[\"isFraud\"])\n",
    "y = df_balanced[\"isFraud\"]\n",
    "\n",
    "X_train, X_test, y_train, y_test = train_test_split(\n",
    "    X, y, test_size=0.25, random_state=42, stratify=y\n",
    ")\n",
    "\n",
    "# --- Preprocessing (encode categorical columns like 'type') ---\n",
    "num_cols = X.select_dtypes(include=[\"int64\",\"float64\"]).columns.tolist()\n",
    "cat_cols = X.select_dtypes(include=[\"object\"]).columns.tolist()\n",
    "\n",
    "preprocess = ColumnTransformer(\n",
    "    transformers=[\n",
    "        (\"num\", \"passthrough\", num_cols),\n",
    "        (\"cat\", OneHotEncoder(handle_unknown=\"ignore\"), cat_cols)\n",
    "    ]\n",
    ")\n",
    "\n",
    "# --- Logistic Regression ---\n",
    "lr_pipeline = Pipeline(steps=[\n",
    "    (\"preprocess\", preprocess),\n",
    "    (\"model\", LogisticRegression(max_iter=500, class_weight=\"balanced\", solver=\"liblinear\"))\n",
    "])\n",
    "\n",
    "lr_pipeline.fit(X_train, y_train)\n",
    "y_pred_lr = lr_pipeline.predict(X_test)\n",
    "y_proba_lr = lr_pipeline.predict_proba(X_test)[:, 1]\n",
    "\n",
    "print(\"=== Logistic Regression ===\")\n",
    "print(\"ROC-AUC:\", roc_auc_score(y_test, y_proba_lr))\n",
    "print(classification_report(y_test, y_pred_lr))\n",
    "\n",
    "# --- Random Forest ---\n",
    "rf_pipeline = Pipeline(steps=[\n",
    "    (\"preprocess\", preprocess),\n",
    "    (\"model\", RandomForestClassifier(n_estimators=200, class_weight=\"balanced\", random_state=42, n_jobs=-1))\n",
    "])\n",
    "\n",
    "rf_pipeline.fit(X_train, y_train)\n",
    "y_pred_rf = rf_pipeline.predict(X_test)\n",
    "y_proba_rf = rf_pipeline.predict_proba(X_test)[:, 1]\n",
    "\n",
    "print(\"\\n=== Random Forest ===\")\n",
    "print(\"ROC-AUC:\", roc_auc_score(y_test, y_proba_rf))\n",
    "print(classification_report(y_test, y_pred_rf))\n"
   ]
  },
  {
   "cell_type": "markdown",
   "id": "f850b879-bd00-4ec9-901e-17f30a543ff3",
   "metadata": {},
   "source": [
    "# Final Conclusion 🎯\n",
    "\n",
    "- We built a fraud detection model on the `Fraud.csv` dataset.\n",
    "- After balancing, we trained Logistic Regression and Random Forest.\n",
    "- Results:\n",
    "  - **Logistic Regression** → ROC-AUC: 0.95, good baseline but lower precision for fraud.\n",
    "  - **Random Forest** → ROC-AUC: 0.998, excellent precision (0.97) and recall (0.95).\n",
    "- **Random Forest is the best model** for this project, as it balances catching frauds and avoiding false alarms.\n",
    "\n",
    "✅ Project Completed\n"
   ]
  },
  {
   "cell_type": "markdown",
   "id": "fc6bd5d8-04ff-403b-bad4-5cdc01028250",
   "metadata": {},
   "source": [
    "## Extra Step 1: Feature Importance  \n",
    "See which features (amount, balances, type, etc.) are most useful for Random Forest.  \n"
   ]
  },
  {
   "cell_type": "code",
   "execution_count": 7,
   "id": "c23ef680-16fa-4c4e-817e-2140783df0a4",
   "metadata": {},
   "outputs": [
    {
     "data": {
      "image/png": "[encoded data removed]",
      "text/plain": [
       "<Figure size 800x400 with 1 Axes>"
      ]
     },
     "metadata": {},
     "output_type": "display_data"
    }
   ],
   "source": [
    "# Get feature names after encoding\n",
    "encoder = rf_pipeline.named_steps['preprocess'].transformers_[1][1]\n",
    "encoded_cat = encoder.get_feature_names_out(cat_cols)\n",
    "feature_names = num_cols + list(encoded_cat)\n",
    "\n",
    "# Feature importance\n",
    "importances = rf_pipeline.named_steps['model'].feature_importances_\n",
    "feat_imp = pd.Series(importances, index=feature_names).sort_values(ascending=False)\n",
    "\n",
    "# Plot\n",
    "plt.figure(figsize=(8,4))\n",
    "sns.barplot(x=feat_imp[:10], y=feat_imp.index[:10])\n",
    "plt.title(\"Top 10 Important Features\")\n",
    "plt.show()\n"
   ]
  },
  {
   "cell_type": "markdown",
   "id": "ebda7fb6-da96-4906-9f22-c91abed91d0e",
   "metadata": {},
   "source": [
    "## Extra Step: Explainability with Permutation Importance ⚡\n",
    "\n",
    "SHAP is heavy to run, so here we use **Permutation Importance** instead.  \n",
    "\n",
    "How it works:\n",
    "- It measures how much the model’s accuracy drops when we shuffle a feature’s values.  \n",
    "- If accuracy drops a lot → that feature is important for predictions.  \n",
    "- If accuracy doesn’t change → that feature is not important.  \n",
    "\n",
    "This gives us an explainable view of which features affect fraud detection the most.  \n"
   ]
  },
  {
   "cell_type": "code",
   "execution_count": 8,
   "id": "77e22ba7-21be-4eb8-82bf-c73bb4cb6bb3",
   "metadata": {},
   "outputs": [
    {
     "data": {
      "image/png": "[encoded data removed]",
      "text/plain": [
       "<Figure size 640x480 with 1 Axes>"
      ]
     },
     "metadata": {},
     "output_type": "display_data"
    }
   ],
   "source": [
    "from sklearn.inspection import permutation_importance\n",
    "import matplotlib.pyplot as plt\n",
    "\n",
    "# Permutation Importance on test data\n",
    "r = permutation_importance(rf_pipeline, X_test, y_test, n_repeats=5, random_state=42, n_jobs=-1)\n",
    "\n",
    "# Match scores to feature names\n",
    "sorted_idx = r.importances_mean.argsort()\n",
    "\n",
    "plt.barh(range(10), r.importances_mean[sorted_idx][-10:])\n",
    "plt.yticks(range(10), [feature_names[i] for i in sorted_idx][-10:])\n",
    "plt.title(\"Top 10 Features Affecting Fraud Prediction\")\n",
    "plt.show()\n"
   ]
  },
  {
   "cell_type": "code",
   "execution_count": null,
   "id": "ed15b560-9502-41c4-8b27-40eb440e10e8",
   "metadata": {},
   "outputs": [],
   "source": []
  },
  {
   "cell_type": "code",
   "execution_count": null,
   "id": "93d63131-e0b6-4b7b-bbca-130523c8ec69",
   "metadata": {},
   "outputs": [],
   "source": []
  },
  {
   "cell_type": "code",
   "execution_count": null,
   "id": "ff4317c8-c6e0-4ccd-9118-08eb02bf8e5a",
   "metadata": {},
   "outputs": [],
   "source": []
  },
  {
   "cell_type": "code",
   "execution_count": null,
   "id": "887e55d7-bddb-42cc-aa4f-7ad123868742",
   "metadata": {},
   "outputs": [],
   "source": []
  },
  {
   "cell_type": "code",
   "execution_count": null,
   "id": "c32eefe8-f5f0-403c-85ba-d77c652ee10f",
   "metadata": {},
   "outputs": [],
   "source": []
  },
  {
   "cell_type": "code",
   "execution_count": null,
   "id": "502c6dc0-d5c6-4649-8958-0c5b8e9dbe7b",
   "metadata": {},
   "outputs": [],
   "source": []
  },
  {
   "cell_type": "code",
   "execution_count": null,
   "id": "415e614d-e4ab-4cd3-97d9-862b472ac6d5",
   "metadata": {},
   "outputs": [],
   "source": []
  },
  {
   "cell_type": "code",
   "execution_count": null,
   "id": "d1d9d3e8-8eab-43a5-bb45-cc116d532d35",
   "metadata": {},
   "outputs": [],
   "source": []
  },
  {
   "cell_type": "code",
   "execution_count": null,
   "id": "c5ef6d6a-4461-49ec-bf8e-c1fe265bb6b0",
   "metadata": {},
   "outputs": [],
   "source": []
  },
  {
   "cell_type": "code",
   "execution_count": null,
   "id": "18903769-ba5d-404a-ba83-cae00a1fac89",
   "metadata": {},
   "outputs": [],
   "source": []
  }
 ],
 "metadata": {
  "kernelspec": {
   "display_name": "Python 3 (ipykernel)",
   "language": "python",
   "name": "python3"
  },
  "language_info": {
   "codemirror_mode": {
    "name": "ipython",
    "version": 3
   },
   "file_extension": ".py",
   "mimetype": "text/x-python",
   "name": "python",
   "nbconvert_exporter": "python",
   "pygments_lexer": "ipython3",
   "version": "3.11.7"
  }
 },
 "nbformat": 4,
 "nbformat_minor": 5
}
